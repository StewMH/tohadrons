{
 "cells": [
  {
   "cell_type": "code",
   "execution_count": null,
   "metadata": {},
   "outputs": [],
   "source": [
    "#%jsroot on -> works for ROOT notebooks only :(\n",
    "\n",
    "import ROOT \n",
    "import pyRratio as pyr\n",
    "\n",
    "pyr._sin_sq_theta_W = 0.23"
   ]
  },
  {
   "cell_type": "markdown",
   "metadata": {},
   "source": [
    "a) We will plot the different components of the $R$-ratio, defined as, \n",
    "\n",
    "$$ R = \\dfrac{\\sigma(e^+e^- \\rightarrow \\mathrm{hadrons})}{\\sigma(e^+e^- \\rightarrow \\mathrm{\\mu^+\\mu^-})}$$\n",
    "\n",
    "and compare to real data in the end to check our derivation corresponds to nature! The data are stored in the file `rpp2012-hadronicrpp_page1001.dat.txt`"
   ]
  },
  {
   "cell_type": "code",
   "execution_count": null,
   "metadata": {},
   "outputs": [],
   "source": [
    "from ROOT import TGraph\n",
    "\n",
    "graph_m = TGraph()\n",
    "graph_m_qed = TGraph()\n",
    "graph_i = TGraph()\n",
    "graph_i_full = TGraph()\n",
    "\n",
    "graph_h = TGraph()\n",
    "graph_r = TGraph()\n",
    "graph_r_full = TGraph()\n",
    "\n",
    "graph_afb = TGraph()\n",
    "\n",
    "from pyDatasetForRratio import readFile\n",
    "\n",
    "graph_data = readFile( fname = 'rpp2012-hadronicrpp_page1001.dat.txt', maxenergy = 160.0 )"
   ]
  },
  {
   "cell_type": "markdown",
   "metadata": {},
   "source": [
    "The functions for each component of the differential decay rate are defined in `pyRratio.py`."
   ]
  },
  {
   "cell_type": "code",
   "execution_count": null,
   "metadata": {
    "scrolled": true
   },
   "outputs": [],
   "source": [
    "sqrts = 0.3\n",
    "point = 0\n",
    "\n",
    "while ( sqrts < 160.0 ):\n",
    "    \n",
    "    rate_m_full = pyr.differential_decay_rate( sqrts**2 , pyr.electron , [pyr.muon] )\n",
    "    rate_m_qed  = pyr.differential_decay_rate_qed( sqrts**2 )\n",
    "    \n",
    "    rate_h      = pyr.differential_decay_rate( sqrts**2 , pyr.electron , pyr.quarks, NC = 3. )\n",
    "\n",
    "    rate_i      = pyr.gamma_Z_interference( sqrts**2, pyr.electron, pyr.quarks, NC = 3. )\n",
    "    \n",
    "    afb         = pyr.forward_backward_asymmetry( sqrts**2, pyr.electron, pyr.muon )\n",
    "    \n",
    "    graph_afb.SetPoint( graph_afb.GetN(), sqrts, afb )\n",
    "    \n",
    "    if ( rate_h > 0 and rate_m_qed > 0 and rate_m_full>0 ):\n",
    "        \n",
    "        graph_m.SetPoint( point, sqrts, rate_m_full )\n",
    "        graph_m_qed.SetPoint( point, sqrts, rate_m_qed )\n",
    "        graph_h.SetPoint( point, sqrts, rate_h ) \n",
    "        \n",
    "        graph_i.SetPoint( point, sqrts, rate_i/rate_m_qed )\n",
    "        graph_i_full.SetPoint( point, sqrts, rate_i/rate_m_full)\n",
    "\n",
    "        graph_r.SetPoint( point, sqrts, rate_h/rate_m_qed )\n",
    "        graph_r_full.SetPoint( point, sqrts, rate_h/rate_m_full )  \n",
    "\n",
    "    \n",
    "    sqrts += 0.2\n",
    "    point += 1\n",
    "\n",
    "\n",
    "from ROOT import gPad, TCanvas\n",
    "\n",
    "can_r = TCanvas('can_r')\n",
    "can_r.SetLogx() # Set logx to see steps in ratio \n",
    "gPad.SetLogy()\n",
    "\n",
    "graph_r.Draw('AL')\n",
    "graph_r.GetYaxis().SetRangeUser(0.1,100000)\n",
    "\n",
    "graph_r.SetLineColor( ROOT.kRed )\n",
    "graph_r_full.SetLineColor( ROOT.kBlue )\n",
    "\n",
    "graph_r.GetXaxis().SetTitle( '#sqrt{s} [GeV]' )\n",
    "graph_r.GetYaxis().SetTitle( '#it{R}' )\n",
    "graph_r_full.Draw('L')\n",
    "graph_data.Draw('P+')\n",
    "\n",
    "\n",
    "can_i = TCanvas('can_i')\n",
    "graph_i.Draw('AL')\n",
    "graph_i.SetLineColor( ROOT.kRed )\n",
    "graph_i_full.SetLineColor( ROOT.kBlue )\n",
    "\n",
    "graph_i.GetXaxis().SetTitle( '#sqrt{s} [GeV]' )\n",
    "graph_i.GetYaxis().SetTitle( 'Interference term' )\n",
    "graph_i_full.Draw('L')\n"
   ]
  },
  {
   "cell_type": "code",
   "execution_count": null,
   "metadata": {},
   "outputs": [],
   "source": [
    "can_r.Draw()"
   ]
  },
  {
   "cell_type": "code",
   "execution_count": null,
   "metadata": {},
   "outputs": [],
   "source": [
    "can_i.Draw()"
   ]
  },
  {
   "cell_type": "markdown",
   "metadata": {},
   "source": [
    "b) Change the value of the weak-mixing angle $\\theta_{W}$ at the top of this notebook to see how the shape of $R$ changes. How does this compare now do the data?"
   ]
  },
  {
   "cell_type": "markdown",
   "metadata": {},
   "source": [
    "Now let's compare the interference with different values of $\\theta_W$ in one go. We have some functions to make the plots easily for us (defined in `pyRratio.py`).\n",
    "\n",
    "We can also plot the forward-backward asymmetry - note this is what the experiments actually measure to access $sin(\\theta_W)$! This is typically calculated using the leptonic cross-sections.\n",
    "\n",
    "$$A_{FB}=\\dfrac{\\sigma_F- \\sigma_B}{\\sigma_F+\\sigma_B}$$\n",
    "\n",
    "where the forward ($F$) and backward $B$ directions are defined in the COM frame (i.e $cos(\\theta)$ > 0 or < 0 ). "
   ]
  },
  {
   "cell_type": "code",
   "execution_count": null,
   "metadata": {},
   "outputs": [],
   "source": [
    "pyr._sin_sq_theta_W = 0.23\n",
    "i23 = pyr.interference_with_sqrts( pyr.electron, pyr.quarks, NC = 3. ); i23.SetLineColor(ROOT.kRed)\n",
    "a23 = pyr.afb_with_sqrts( pyr.electron, pyr.muon ); i23.SetLineColor(ROOT.kRed)\n",
    "\n",
    "pyr._sin_sq_theta_W = 0.3\n",
    "i3 = pyr.interference_with_sqrts( pyr.electron, pyr.quarks, NC = 3. ); i3.SetLineColor(ROOT.kGreen+1)\n",
    "a3 = pyr.afb_with_sqrts( pyr.electron, pyr.muon ); a3.SetLineColor(ROOT.kGreen+1)\n",
    "\n",
    "c_afb = TCanvas(\"c_afb\",\"\",800,400)\n",
    "c_afb.Divide(2)\n",
    "\n",
    "c_afb.cd(1)\n",
    "i23.GetYaxis().SetTitle(\"Interference term\")\n",
    "i23.GetXaxis().SetTitle( '#sqrt{s} [GeV]' )\n",
    "i23.Draw(\"AL\")\n",
    "i3.Draw(\"L\")\n",
    "\n",
    "c_afb.cd(2)\n",
    "a23.GetYaxis().SetTitle(\"A_{FB}\")\n",
    "a23.GetXaxis().SetTitle( '#sqrt{s} [GeV]' )\n",
    "a23.Draw(\"AL\")\n",
    "a3.Draw(\"L\")\n",
    "\n",
    "c_afb.Draw()"
   ]
  }
 ],
 "metadata": {
  "kernelspec": {
   "display_name": "Python 2",
   "language": "python",
   "name": "python2"
  },
  "language_info": {
   "codemirror_mode": {
    "name": "ipython",
    "version": 2
   },
   "file_extension": ".py",
   "mimetype": "text/x-python",
   "name": "python",
   "nbconvert_exporter": "python",
   "pygments_lexer": "ipython2",
   "version": "2.7.13"
  }
 },
 "nbformat": 4,
 "nbformat_minor": 2
}
